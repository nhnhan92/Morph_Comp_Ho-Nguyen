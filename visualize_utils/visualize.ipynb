{
 "cells": [
  {
   "cell_type": "code",
   "execution_count": 6,
   "metadata": {},
   "outputs": [],
   "source": [
    "FEATURES_LIMIT=5\n",
    "DATA_PATH=\"/Users/phuongnm/Downloads/sensor_data_analysis/test_data_02_28/No normalized\"\n"
   ]
  },
  {
   "cell_type": "code",
   "execution_count": 7,
   "metadata": {},
   "outputs": [],
   "source": [
    "import os\n",
    "import glob\n",
    "import numpy as np \n",
    "import pandas as pd \n",
    "\n",
    "all_data = {'odd': {'labels': [], 'values': [], 'file_name': []},\n",
    "            'even': {'labels': [], 'values': [], 'file_name': []}}\n",
    "for file_name in glob.glob(f\"{DATA_PATH}/*.csv\"):\n",
    "    # check odd or even in file name\n",
    "    idx = int(file_name[:-4].split(\"_\")[-1])\n",
    "    if idx % 2 == 1:\n",
    "        data_storage = all_data['odd']\n",
    "    else:\n",
    "        data_storage = all_data['even']\n",
    "\n",
    "    data_storage['file_name'].append(file_name)\n",
    "\n",
    "    # load data to get label\n",
    "    label = file_name.split(\"/\")[-1][:-4]\n",
    "    data_storage['labels'].append(label)\n",
    "\n",
    "    # load real values\n",
    "    df = pd.read_csv(open(file_name), header=0)\n",
    "\n",
    "    def filter_fn(row):\n",
    "        return row\n",
    "\n",
    "    df = df.apply(filter_fn, axis=1)\n",
    "    values = df[df.columns[0]].tolist()\n",
    "    data_storage['values'].append(np.array(values[:FEATURES_LIMIT]))\n"
   ]
  },
  {
   "cell_type": "code",
   "execution_count": 8,
   "metadata": {},
   "outputs": [
    {
     "name": "stdout",
     "output_type": "stream",
     "text": [
      "Object labels:\n"
     ]
    },
    {
     "data": {
      "text/plain": [
       "['P40_c_19',\n",
       " 'P40_a_09',\n",
       " 'P40_a_19',\n",
       " 'P40_c_09',\n",
       " 'P40_b_05',\n",
       " 'P40_b_11',\n",
       " 'P40_b_07',\n",
       " 'P40_b_13',\n",
       " 'P40_b_17',\n",
       " 'P40_b_03',\n",
       " 'P40_b_15',\n",
       " 'P40_b_01',\n",
       " 'P40_b_19',\n",
       " 'P40_b_09',\n",
       " 'P40_c_13',\n",
       " 'P40_c_07',\n",
       " 'P40_a_03',\n",
       " 'P40_a_17',\n",
       " 'P40_a_01',\n",
       " 'P40_a_15',\n",
       " 'P40_c_11',\n",
       " 'P40_c_05',\n",
       " 'P40_c_01',\n",
       " 'P40_c_15',\n",
       " 'P40_a_11',\n",
       " 'P40_a_05',\n",
       " 'P40_a_13',\n",
       " 'P40_a_07',\n",
       " 'P40_c_03',\n",
       " 'P40_c_17']"
      ]
     },
     "execution_count": 8,
     "metadata": {},
     "output_type": "execute_result"
    }
   ],
   "source": [
    "print(\"Object labels:\")\n",
    "all_data['odd']['labels']"
   ]
  },
  {
   "cell_type": "code",
   "execution_count": 9,
   "metadata": {},
   "outputs": [
    {
     "name": "stdout",
     "output_type": "stream",
     "text": [
      "label_map= {'P40_c': 0, 'P40_b': 1, 'P40_a': 2}\n",
      "label_map= {'P40_c': 0, 'P40_b': 1, 'P40_a': 2}\n"
     ]
    },
    {
     "name": "stderr",
     "output_type": "stream",
     "text": [
      "/Users/phuongnm/miniconda3/envs/py36/lib/python3.6/site-packages/matplotlib/figure.py:457: UserWarning: matplotlib is currently using a non-GUI backend, so cannot show the figure\n",
      "  \"matplotlib is currently using a non-GUI backend, \"\n",
      "/Users/phuongnm/miniconda3/envs/py36/lib/python3.6/site-packages/matplotlib/figure.py:457: UserWarning: matplotlib is currently using a non-GUI backend, so cannot show the figure\n",
      "  \"matplotlib is currently using a non-GUI backend, \"\n"
     ]
    },
    {
     "data": {
      "text/plain": [
       "<Figure size 576x432 with 0 Axes>"
      ]
     },
     "metadata": {},
     "output_type": "display_data"
    },
    {
     "data": {
      "image/png": "[encoded data removed]",
      "text/plain": [
       "<Figure size 432x288 with 1 Axes>"
      ]
     },
     "metadata": {
      "needs_background": "light"
     },
     "output_type": "display_data"
    },
    {
     "data": {
      "text/plain": [
       "<Figure size 576x432 with 0 Axes>"
      ]
     },
     "metadata": {},
     "output_type": "display_data"
    },
    {
     "data": {
      "image/png": "[encoded data removed]",
      "text/plain": [
       "<Figure size 432x288 with 1 Axes>"
      ]
     },
     "metadata": {
      "needs_background": "light"
     },
     "output_type": "display_data"
    }
   ],
   "source": [
    "\n",
    "from sklearn.decomposition import PCA\n",
    "from sklearn.preprocessing import StandardScaler\n",
    "from sklearn.pipeline import Pipeline\n",
    "import matplotlib.pyplot as plt\n",
    "from sklearn.manifold import TSNE\n",
    "\n",
    "for type_file in ['odd', 'even']:\n",
    "    # label map for coloring\n",
    "    label_map = dict([\n",
    "        (v, i) for i, v in enumerate(\n",
    "            list(set(\"_\".join(e.split(\"_\")[:-1]) for e in all_data[type_file]['labels'])) # remove the last component in file name (*_00, *_01, ...)\n",
    "        )])\n",
    "    X, labels =  all_data[type_file]['values'], all_data[type_file]['labels']\n",
    "    print('label_map=',label_map)\n",
    "\n",
    "    reduce_processor = PCA()\n",
    "    # reduce_processor = TSNE(n_components=2, verbose=1, random_state=123, n_iter=6000)\n",
    "\n",
    "    pipe = Pipeline([\n",
    "                    # ('scaler', StandardScaler()),\n",
    "                    ('pca', reduce_processor)])\n",
    "    plt.figure(figsize=(8,6))\n",
    "    Xt = pipe.fit_transform(X)\n",
    "\n",
    "\n",
    "    plot, ax = plt.subplots()\n",
    "    ax.scatter(Xt[:,0], Xt[:,1], \n",
    "            # alpha=hue,\n",
    "            c=[ label_map[\"_\".join(e.split(\"_\")[:-1])] for e in labels]\n",
    "            )\n",
    "\n",
    "\n",
    "    # for i, txt in enumerate(labels):\n",
    "    #     ax.text(Xt[i,0]+.04, Xt[i,1]+.04, txt, fontsize=9)\n",
    "    plot.show()\n",
    "    plot.savefig(f'{str(reduce_processor)[:3]}.{type_file}.pdf')"
   ]
  },
  {
   "cell_type": "code",
   "execution_count": null,
   "metadata": {},
   "outputs": [],
   "source": []
  },
  {
   "cell_type": "code",
   "execution_count": null,
   "metadata": {},
   "outputs": [],
   "source": []
  }
 ],
 "metadata": {
  "kernelspec": {
   "display_name": "Python 3.6.8 ('py36')",
   "language": "python",
   "name": "python3"
  },
  "language_info": {
   "codemirror_mode": {
    "name": "ipython",
    "version": 3
   },
   "file_extension": ".py",
   "mimetype": "text/x-python",
   "name": "python",
   "nbconvert_exporter": "python",
   "pygments_lexer": "ipython3",
   "version": "3.6.8"
  },
  "orig_nbformat": 4,
  "vscode": {
   "interpreter": {
    "hash": "bb49356df681db3494b8adf33474569be5bc5e195e4eea869dc0dda2c09c06b6"
   }
  }
 },
 "nbformat": 4,
 "nbformat_minor": 2
}
